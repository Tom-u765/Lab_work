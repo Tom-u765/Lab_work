{
 "cells": [
  {
   "cell_type": "code",
   "execution_count": 4,
   "metadata": {},
   "outputs": [
    {
     "ename": "FileNotFoundError",
     "evalue": "[Errno 2] No such file or directory: '/Volumes/Public/2022/B4/route_assignment/Incremantal Assignment/Link_incre.csv'",
     "output_type": "error",
     "traceback": [
      "\u001b[0;31m---------------------------------------------------------------------------\u001b[0m",
      "\u001b[0;31mFileNotFoundError\u001b[0m                         Traceback (most recent call last)",
      "\u001b[1;32m/Users/hoteison/Desktop/Untitled-1.ipynb Cell 1'\u001b[0m in \u001b[0;36m<cell line: 8>\u001b[0;34m()\u001b[0m\n\u001b[1;32m      <a href='vscode-notebook-cell:/Users/hoteison/Desktop/Untitled-1.ipynb#ch0000000?line=4'>5</a>\u001b[0m \u001b[39mfrom\u001b[39;00m \u001b[39mortoolpy\u001b[39;00m\u001b[39m.\u001b[39;00m\u001b[39moptimization\u001b[39;00m \u001b[39mimport\u001b[39;00m DijkstraPath\n\u001b[1;32m      <a href='vscode-notebook-cell:/Users/hoteison/Desktop/Untitled-1.ipynb#ch0000000?line=6'>7</a>\u001b[0m \u001b[39m#\u001b[39;00m\n\u001b[0;32m----> <a href='vscode-notebook-cell:/Users/hoteison/Desktop/Untitled-1.ipynb#ch0000000?line=7'>8</a>\u001b[0m edge \u001b[39m=\u001b[39m pd\u001b[39m.\u001b[39;49mread_csv(\u001b[39m\"\u001b[39;49m\u001b[39m/Volumes/Public/2022/B4/route_assignment/Incremantal Assignment/Link_incre.csv\u001b[39;49m\u001b[39m\"\u001b[39;49m)\n\u001b[1;32m      <a href='vscode-notebook-cell:/Users/hoteison/Desktop/Untitled-1.ipynb#ch0000000?line=8'>9</a>\u001b[0m node \u001b[39m=\u001b[39m pd\u001b[39m.\u001b[39mread_csv(\u001b[39m\"\u001b[39m\u001b[39m/Volumes/Public/2022/B4/route_assignment/Incremantal Assignment/Node_incre.csv\u001b[39m\u001b[39m\"\u001b[39m)\n\u001b[1;32m     <a href='vscode-notebook-cell:/Users/hoteison/Desktop/Untitled-1.ipynb#ch0000000?line=9'>10</a>\u001b[0m od \u001b[39m=\u001b[39m pd\u001b[39m.\u001b[39mread_csv(\u001b[39m\"\u001b[39m\u001b[39m/Volumes/Public/2022/B4/route_assignment/Incremantal Assignment/OD_incre.csv\u001b[39m\u001b[39m\"\u001b[39m,header \u001b[39m=\u001b[39m \u001b[39mNone\u001b[39;00m)\n",
      "File \u001b[0;32m~/opt/anaconda3/envs/py39/lib/python3.9/site-packages/pandas/util/_decorators.py:311\u001b[0m, in \u001b[0;36mdeprecate_nonkeyword_arguments.<locals>.decorate.<locals>.wrapper\u001b[0;34m(*args, **kwargs)\u001b[0m\n\u001b[1;32m    <a href='file:///Users/hoteison/opt/anaconda3/envs/py39/lib/python3.9/site-packages/pandas/util/_decorators.py?line=304'>305</a>\u001b[0m \u001b[39mif\u001b[39;00m \u001b[39mlen\u001b[39m(args) \u001b[39m>\u001b[39m num_allow_args:\n\u001b[1;32m    <a href='file:///Users/hoteison/opt/anaconda3/envs/py39/lib/python3.9/site-packages/pandas/util/_decorators.py?line=305'>306</a>\u001b[0m     warnings\u001b[39m.\u001b[39mwarn(\n\u001b[1;32m    <a href='file:///Users/hoteison/opt/anaconda3/envs/py39/lib/python3.9/site-packages/pandas/util/_decorators.py?line=306'>307</a>\u001b[0m         msg\u001b[39m.\u001b[39mformat(arguments\u001b[39m=\u001b[39marguments),\n\u001b[1;32m    <a href='file:///Users/hoteison/opt/anaconda3/envs/py39/lib/python3.9/site-packages/pandas/util/_decorators.py?line=307'>308</a>\u001b[0m         \u001b[39mFutureWarning\u001b[39;00m,\n\u001b[1;32m    <a href='file:///Users/hoteison/opt/anaconda3/envs/py39/lib/python3.9/site-packages/pandas/util/_decorators.py?line=308'>309</a>\u001b[0m         stacklevel\u001b[39m=\u001b[39mstacklevel,\n\u001b[1;32m    <a href='file:///Users/hoteison/opt/anaconda3/envs/py39/lib/python3.9/site-packages/pandas/util/_decorators.py?line=309'>310</a>\u001b[0m     )\n\u001b[0;32m--> <a href='file:///Users/hoteison/opt/anaconda3/envs/py39/lib/python3.9/site-packages/pandas/util/_decorators.py?line=310'>311</a>\u001b[0m \u001b[39mreturn\u001b[39;00m func(\u001b[39m*\u001b[39;49margs, \u001b[39m*\u001b[39;49m\u001b[39m*\u001b[39;49mkwargs)\n",
      "File \u001b[0;32m~/opt/anaconda3/envs/py39/lib/python3.9/site-packages/pandas/io/parsers/readers.py:680\u001b[0m, in \u001b[0;36mread_csv\u001b[0;34m(filepath_or_buffer, sep, delimiter, header, names, index_col, usecols, squeeze, prefix, mangle_dupe_cols, dtype, engine, converters, true_values, false_values, skipinitialspace, skiprows, skipfooter, nrows, na_values, keep_default_na, na_filter, verbose, skip_blank_lines, parse_dates, infer_datetime_format, keep_date_col, date_parser, dayfirst, cache_dates, iterator, chunksize, compression, thousands, decimal, lineterminator, quotechar, quoting, doublequote, escapechar, comment, encoding, encoding_errors, dialect, error_bad_lines, warn_bad_lines, on_bad_lines, delim_whitespace, low_memory, memory_map, float_precision, storage_options)\u001b[0m\n\u001b[1;32m    <a href='file:///Users/hoteison/opt/anaconda3/envs/py39/lib/python3.9/site-packages/pandas/io/parsers/readers.py?line=664'>665</a>\u001b[0m kwds_defaults \u001b[39m=\u001b[39m _refine_defaults_read(\n\u001b[1;32m    <a href='file:///Users/hoteison/opt/anaconda3/envs/py39/lib/python3.9/site-packages/pandas/io/parsers/readers.py?line=665'>666</a>\u001b[0m     dialect,\n\u001b[1;32m    <a href='file:///Users/hoteison/opt/anaconda3/envs/py39/lib/python3.9/site-packages/pandas/io/parsers/readers.py?line=666'>667</a>\u001b[0m     delimiter,\n\u001b[0;32m   (...)\u001b[0m\n\u001b[1;32m    <a href='file:///Users/hoteison/opt/anaconda3/envs/py39/lib/python3.9/site-packages/pandas/io/parsers/readers.py?line=675'>676</a>\u001b[0m     defaults\u001b[39m=\u001b[39m{\u001b[39m\"\u001b[39m\u001b[39mdelimiter\u001b[39m\u001b[39m\"\u001b[39m: \u001b[39m\"\u001b[39m\u001b[39m,\u001b[39m\u001b[39m\"\u001b[39m},\n\u001b[1;32m    <a href='file:///Users/hoteison/opt/anaconda3/envs/py39/lib/python3.9/site-packages/pandas/io/parsers/readers.py?line=676'>677</a>\u001b[0m )\n\u001b[1;32m    <a href='file:///Users/hoteison/opt/anaconda3/envs/py39/lib/python3.9/site-packages/pandas/io/parsers/readers.py?line=677'>678</a>\u001b[0m kwds\u001b[39m.\u001b[39mupdate(kwds_defaults)\n\u001b[0;32m--> <a href='file:///Users/hoteison/opt/anaconda3/envs/py39/lib/python3.9/site-packages/pandas/io/parsers/readers.py?line=679'>680</a>\u001b[0m \u001b[39mreturn\u001b[39;00m _read(filepath_or_buffer, kwds)\n",
      "File \u001b[0;32m~/opt/anaconda3/envs/py39/lib/python3.9/site-packages/pandas/io/parsers/readers.py:575\u001b[0m, in \u001b[0;36m_read\u001b[0;34m(filepath_or_buffer, kwds)\u001b[0m\n\u001b[1;32m    <a href='file:///Users/hoteison/opt/anaconda3/envs/py39/lib/python3.9/site-packages/pandas/io/parsers/readers.py?line=571'>572</a>\u001b[0m _validate_names(kwds\u001b[39m.\u001b[39mget(\u001b[39m\"\u001b[39m\u001b[39mnames\u001b[39m\u001b[39m\"\u001b[39m, \u001b[39mNone\u001b[39;00m))\n\u001b[1;32m    <a href='file:///Users/hoteison/opt/anaconda3/envs/py39/lib/python3.9/site-packages/pandas/io/parsers/readers.py?line=573'>574</a>\u001b[0m \u001b[39m# Create the parser.\u001b[39;00m\n\u001b[0;32m--> <a href='file:///Users/hoteison/opt/anaconda3/envs/py39/lib/python3.9/site-packages/pandas/io/parsers/readers.py?line=574'>575</a>\u001b[0m parser \u001b[39m=\u001b[39m TextFileReader(filepath_or_buffer, \u001b[39m*\u001b[39;49m\u001b[39m*\u001b[39;49mkwds)\n\u001b[1;32m    <a href='file:///Users/hoteison/opt/anaconda3/envs/py39/lib/python3.9/site-packages/pandas/io/parsers/readers.py?line=576'>577</a>\u001b[0m \u001b[39mif\u001b[39;00m chunksize \u001b[39mor\u001b[39;00m iterator:\n\u001b[1;32m    <a href='file:///Users/hoteison/opt/anaconda3/envs/py39/lib/python3.9/site-packages/pandas/io/parsers/readers.py?line=577'>578</a>\u001b[0m     \u001b[39mreturn\u001b[39;00m parser\n",
      "File \u001b[0;32m~/opt/anaconda3/envs/py39/lib/python3.9/site-packages/pandas/io/parsers/readers.py:933\u001b[0m, in \u001b[0;36mTextFileReader.__init__\u001b[0;34m(self, f, engine, **kwds)\u001b[0m\n\u001b[1;32m    <a href='file:///Users/hoteison/opt/anaconda3/envs/py39/lib/python3.9/site-packages/pandas/io/parsers/readers.py?line=929'>930</a>\u001b[0m     \u001b[39mself\u001b[39m\u001b[39m.\u001b[39moptions[\u001b[39m\"\u001b[39m\u001b[39mhas_index_names\u001b[39m\u001b[39m\"\u001b[39m] \u001b[39m=\u001b[39m kwds[\u001b[39m\"\u001b[39m\u001b[39mhas_index_names\u001b[39m\u001b[39m\"\u001b[39m]\n\u001b[1;32m    <a href='file:///Users/hoteison/opt/anaconda3/envs/py39/lib/python3.9/site-packages/pandas/io/parsers/readers.py?line=931'>932</a>\u001b[0m \u001b[39mself\u001b[39m\u001b[39m.\u001b[39mhandles: IOHandles \u001b[39m|\u001b[39m \u001b[39mNone\u001b[39;00m \u001b[39m=\u001b[39m \u001b[39mNone\u001b[39;00m\n\u001b[0;32m--> <a href='file:///Users/hoteison/opt/anaconda3/envs/py39/lib/python3.9/site-packages/pandas/io/parsers/readers.py?line=932'>933</a>\u001b[0m \u001b[39mself\u001b[39m\u001b[39m.\u001b[39m_engine \u001b[39m=\u001b[39m \u001b[39mself\u001b[39;49m\u001b[39m.\u001b[39;49m_make_engine(f, \u001b[39mself\u001b[39;49m\u001b[39m.\u001b[39;49mengine)\n",
      "File \u001b[0;32m~/opt/anaconda3/envs/py39/lib/python3.9/site-packages/pandas/io/parsers/readers.py:1217\u001b[0m, in \u001b[0;36mTextFileReader._make_engine\u001b[0;34m(self, f, engine)\u001b[0m\n\u001b[1;32m   <a href='file:///Users/hoteison/opt/anaconda3/envs/py39/lib/python3.9/site-packages/pandas/io/parsers/readers.py?line=1212'>1213</a>\u001b[0m     mode \u001b[39m=\u001b[39m \u001b[39m\"\u001b[39m\u001b[39mrb\u001b[39m\u001b[39m\"\u001b[39m\n\u001b[1;32m   <a href='file:///Users/hoteison/opt/anaconda3/envs/py39/lib/python3.9/site-packages/pandas/io/parsers/readers.py?line=1213'>1214</a>\u001b[0m \u001b[39m# error: No overload variant of \"get_handle\" matches argument types\u001b[39;00m\n\u001b[1;32m   <a href='file:///Users/hoteison/opt/anaconda3/envs/py39/lib/python3.9/site-packages/pandas/io/parsers/readers.py?line=1214'>1215</a>\u001b[0m \u001b[39m# \"Union[str, PathLike[str], ReadCsvBuffer[bytes], ReadCsvBuffer[str]]\"\u001b[39;00m\n\u001b[1;32m   <a href='file:///Users/hoteison/opt/anaconda3/envs/py39/lib/python3.9/site-packages/pandas/io/parsers/readers.py?line=1215'>1216</a>\u001b[0m \u001b[39m# , \"str\", \"bool\", \"Any\", \"Any\", \"Any\", \"Any\", \"Any\"\u001b[39;00m\n\u001b[0;32m-> <a href='file:///Users/hoteison/opt/anaconda3/envs/py39/lib/python3.9/site-packages/pandas/io/parsers/readers.py?line=1216'>1217</a>\u001b[0m \u001b[39mself\u001b[39m\u001b[39m.\u001b[39mhandles \u001b[39m=\u001b[39m get_handle(  \u001b[39m# type: ignore[call-overload]\u001b[39;49;00m\n\u001b[1;32m   <a href='file:///Users/hoteison/opt/anaconda3/envs/py39/lib/python3.9/site-packages/pandas/io/parsers/readers.py?line=1217'>1218</a>\u001b[0m     f,\n\u001b[1;32m   <a href='file:///Users/hoteison/opt/anaconda3/envs/py39/lib/python3.9/site-packages/pandas/io/parsers/readers.py?line=1218'>1219</a>\u001b[0m     mode,\n\u001b[1;32m   <a href='file:///Users/hoteison/opt/anaconda3/envs/py39/lib/python3.9/site-packages/pandas/io/parsers/readers.py?line=1219'>1220</a>\u001b[0m     encoding\u001b[39m=\u001b[39;49m\u001b[39mself\u001b[39;49m\u001b[39m.\u001b[39;49moptions\u001b[39m.\u001b[39;49mget(\u001b[39m\"\u001b[39;49m\u001b[39mencoding\u001b[39;49m\u001b[39m\"\u001b[39;49m, \u001b[39mNone\u001b[39;49;00m),\n\u001b[1;32m   <a href='file:///Users/hoteison/opt/anaconda3/envs/py39/lib/python3.9/site-packages/pandas/io/parsers/readers.py?line=1220'>1221</a>\u001b[0m     compression\u001b[39m=\u001b[39;49m\u001b[39mself\u001b[39;49m\u001b[39m.\u001b[39;49moptions\u001b[39m.\u001b[39;49mget(\u001b[39m\"\u001b[39;49m\u001b[39mcompression\u001b[39;49m\u001b[39m\"\u001b[39;49m, \u001b[39mNone\u001b[39;49;00m),\n\u001b[1;32m   <a href='file:///Users/hoteison/opt/anaconda3/envs/py39/lib/python3.9/site-packages/pandas/io/parsers/readers.py?line=1221'>1222</a>\u001b[0m     memory_map\u001b[39m=\u001b[39;49m\u001b[39mself\u001b[39;49m\u001b[39m.\u001b[39;49moptions\u001b[39m.\u001b[39;49mget(\u001b[39m\"\u001b[39;49m\u001b[39mmemory_map\u001b[39;49m\u001b[39m\"\u001b[39;49m, \u001b[39mFalse\u001b[39;49;00m),\n\u001b[1;32m   <a href='file:///Users/hoteison/opt/anaconda3/envs/py39/lib/python3.9/site-packages/pandas/io/parsers/readers.py?line=1222'>1223</a>\u001b[0m     is_text\u001b[39m=\u001b[39;49mis_text,\n\u001b[1;32m   <a href='file:///Users/hoteison/opt/anaconda3/envs/py39/lib/python3.9/site-packages/pandas/io/parsers/readers.py?line=1223'>1224</a>\u001b[0m     errors\u001b[39m=\u001b[39;49m\u001b[39mself\u001b[39;49m\u001b[39m.\u001b[39;49moptions\u001b[39m.\u001b[39;49mget(\u001b[39m\"\u001b[39;49m\u001b[39mencoding_errors\u001b[39;49m\u001b[39m\"\u001b[39;49m, \u001b[39m\"\u001b[39;49m\u001b[39mstrict\u001b[39;49m\u001b[39m\"\u001b[39;49m),\n\u001b[1;32m   <a href='file:///Users/hoteison/opt/anaconda3/envs/py39/lib/python3.9/site-packages/pandas/io/parsers/readers.py?line=1224'>1225</a>\u001b[0m     storage_options\u001b[39m=\u001b[39;49m\u001b[39mself\u001b[39;49m\u001b[39m.\u001b[39;49moptions\u001b[39m.\u001b[39;49mget(\u001b[39m\"\u001b[39;49m\u001b[39mstorage_options\u001b[39;49m\u001b[39m\"\u001b[39;49m, \u001b[39mNone\u001b[39;49;00m),\n\u001b[1;32m   <a href='file:///Users/hoteison/opt/anaconda3/envs/py39/lib/python3.9/site-packages/pandas/io/parsers/readers.py?line=1225'>1226</a>\u001b[0m )\n\u001b[1;32m   <a href='file:///Users/hoteison/opt/anaconda3/envs/py39/lib/python3.9/site-packages/pandas/io/parsers/readers.py?line=1226'>1227</a>\u001b[0m \u001b[39massert\u001b[39;00m \u001b[39mself\u001b[39m\u001b[39m.\u001b[39mhandles \u001b[39mis\u001b[39;00m \u001b[39mnot\u001b[39;00m \u001b[39mNone\u001b[39;00m\n\u001b[1;32m   <a href='file:///Users/hoteison/opt/anaconda3/envs/py39/lib/python3.9/site-packages/pandas/io/parsers/readers.py?line=1227'>1228</a>\u001b[0m f \u001b[39m=\u001b[39m \u001b[39mself\u001b[39m\u001b[39m.\u001b[39mhandles\u001b[39m.\u001b[39mhandle\n",
      "File \u001b[0;32m~/opt/anaconda3/envs/py39/lib/python3.9/site-packages/pandas/io/common.py:789\u001b[0m, in \u001b[0;36mget_handle\u001b[0;34m(path_or_buf, mode, encoding, compression, memory_map, is_text, errors, storage_options)\u001b[0m\n\u001b[1;32m    <a href='file:///Users/hoteison/opt/anaconda3/envs/py39/lib/python3.9/site-packages/pandas/io/common.py?line=783'>784</a>\u001b[0m \u001b[39melif\u001b[39;00m \u001b[39misinstance\u001b[39m(handle, \u001b[39mstr\u001b[39m):\n\u001b[1;32m    <a href='file:///Users/hoteison/opt/anaconda3/envs/py39/lib/python3.9/site-packages/pandas/io/common.py?line=784'>785</a>\u001b[0m     \u001b[39m# Check whether the filename is to be opened in binary mode.\u001b[39;00m\n\u001b[1;32m    <a href='file:///Users/hoteison/opt/anaconda3/envs/py39/lib/python3.9/site-packages/pandas/io/common.py?line=785'>786</a>\u001b[0m     \u001b[39m# Binary mode does not support 'encoding' and 'newline'.\u001b[39;00m\n\u001b[1;32m    <a href='file:///Users/hoteison/opt/anaconda3/envs/py39/lib/python3.9/site-packages/pandas/io/common.py?line=786'>787</a>\u001b[0m     \u001b[39mif\u001b[39;00m ioargs\u001b[39m.\u001b[39mencoding \u001b[39mand\u001b[39;00m \u001b[39m\"\u001b[39m\u001b[39mb\u001b[39m\u001b[39m\"\u001b[39m \u001b[39mnot\u001b[39;00m \u001b[39min\u001b[39;00m ioargs\u001b[39m.\u001b[39mmode:\n\u001b[1;32m    <a href='file:///Users/hoteison/opt/anaconda3/envs/py39/lib/python3.9/site-packages/pandas/io/common.py?line=787'>788</a>\u001b[0m         \u001b[39m# Encoding\u001b[39;00m\n\u001b[0;32m--> <a href='file:///Users/hoteison/opt/anaconda3/envs/py39/lib/python3.9/site-packages/pandas/io/common.py?line=788'>789</a>\u001b[0m         handle \u001b[39m=\u001b[39m \u001b[39mopen\u001b[39;49m(\n\u001b[1;32m    <a href='file:///Users/hoteison/opt/anaconda3/envs/py39/lib/python3.9/site-packages/pandas/io/common.py?line=789'>790</a>\u001b[0m             handle,\n\u001b[1;32m    <a href='file:///Users/hoteison/opt/anaconda3/envs/py39/lib/python3.9/site-packages/pandas/io/common.py?line=790'>791</a>\u001b[0m             ioargs\u001b[39m.\u001b[39;49mmode,\n\u001b[1;32m    <a href='file:///Users/hoteison/opt/anaconda3/envs/py39/lib/python3.9/site-packages/pandas/io/common.py?line=791'>792</a>\u001b[0m             encoding\u001b[39m=\u001b[39;49mioargs\u001b[39m.\u001b[39;49mencoding,\n\u001b[1;32m    <a href='file:///Users/hoteison/opt/anaconda3/envs/py39/lib/python3.9/site-packages/pandas/io/common.py?line=792'>793</a>\u001b[0m             errors\u001b[39m=\u001b[39;49merrors,\n\u001b[1;32m    <a href='file:///Users/hoteison/opt/anaconda3/envs/py39/lib/python3.9/site-packages/pandas/io/common.py?line=793'>794</a>\u001b[0m             newline\u001b[39m=\u001b[39;49m\u001b[39m\"\u001b[39;49m\u001b[39m\"\u001b[39;49m,\n\u001b[1;32m    <a href='file:///Users/hoteison/opt/anaconda3/envs/py39/lib/python3.9/site-packages/pandas/io/common.py?line=794'>795</a>\u001b[0m         )\n\u001b[1;32m    <a href='file:///Users/hoteison/opt/anaconda3/envs/py39/lib/python3.9/site-packages/pandas/io/common.py?line=795'>796</a>\u001b[0m     \u001b[39melse\u001b[39;00m:\n\u001b[1;32m    <a href='file:///Users/hoteison/opt/anaconda3/envs/py39/lib/python3.9/site-packages/pandas/io/common.py?line=796'>797</a>\u001b[0m         \u001b[39m# Binary mode\u001b[39;00m\n\u001b[1;32m    <a href='file:///Users/hoteison/opt/anaconda3/envs/py39/lib/python3.9/site-packages/pandas/io/common.py?line=797'>798</a>\u001b[0m         handle \u001b[39m=\u001b[39m \u001b[39mopen\u001b[39m(handle, ioargs\u001b[39m.\u001b[39mmode)\n",
      "\u001b[0;31mFileNotFoundError\u001b[0m: [Errno 2] No such file or directory: '/Volumes/Public/2022/B4/route_assignment/Incremantal Assignment/Link_incre.csv'"
     ]
    }
   ],
   "source": [
    "\n",
    "import numpy as np\n",
    "import pandas as pd\n",
    "import networkx as nx\n",
    "from ortoolpy import graph_from_table\n",
    "from ortoolpy.optimization import DijkstraPath\n",
    "\n",
    "#\n",
    "edge = pd.read_csv(\"Link_incre.csv\")\n",
    "node = pd.read_csv(\"Node_incre.csv\")\n",
    "od = pd.read_csv(\"OD_incre.csv\",header = None)\n",
    "#%% 距離を所要時間に変換\n",
    "\n",
    "##速度の入力（0にすると整備無しの状態）\n",
    "s1=25    #rank1\n",
    "s2=30    #rank2\n",
    "s3=35    #rank3\n",
    "s4=45    #rank4\n",
    "s5=80    #圏央道\n",
    "s6=80    #東海環状\n",
    "s7=80    #関西環状\n",
    "s8=80    #中部横断（静岡・山梨区間）\n",
    "s9=50    #外環内高速\n",
    "s10=58   #関西環状内高速\n",
    "s11=100  #新東名\n",
    "s12=80   #中央道\n",
    "s13=0    #中部横断（山梨・長野区間）\n",
    "s14=58   #北関東自動車道\n",
    "\n",
    "\n",
    "linkcount=len(edge)\n",
    "\n",
    "for i in (range(linkcount)): \n",
    "    if edge.iat[i,3] ==1:\n",
    "        edge.iat[i,5] = edge.iat[i,2]*60/s1\n",
    "        edge.iat[i,2] = edge.iat[i,5]\n",
    "    elif edge.iat[i,3]==2:\n",
    "        edge.iat[i,5] = edge.iat[i,2]*60/s2\n",
    "        edge.iat[i,2] = edge.iat[i,5]\n",
    "    elif edge.iat[i,3]==3:\n",
    "        edge.iat[i,5] = edge.iat[i,2]*60/s3\n",
    "        edge.iat[i,2] = edge.iat[i,5]\n",
    "    elif edge.iat[i,3]==4:\n",
    "        edge.iat[i,5] = edge.iat[i,2]*60/s4\n",
    "        edge.iat[i,2] = edge.iat[i,5]\n",
    "    elif edge.iat[i,3]==5:\n",
    "        edge.iat[i,5] = edge.iat[i,2]*60/s5\n",
    "        edge.iat[i,2] = edge.iat[i,5]\n",
    "    elif edge.iat[i,3]==6:\n",
    "        edge.iat[i,5] = edge.iat[i,2]*60/s6\n",
    "        edge.iat[i,2] = edge.iat[i,5]\n",
    "    elif edge.iat[i,3]==7:\n",
    "        edge.iat[i,5] = edge.iat[i,2]*60/s7\n",
    "        edge.iat[i,2] = edge.iat[i,5]\n",
    "    elif edge.iat[i,3]==8:\n",
    "        edge.iat[i,5] = edge.iat[i,2]*60/s8\n",
    "        edge.iat[i,2] = edge.iat[i,5]\n",
    "    elif edge.iat[i,3]==9:\n",
    "        edge.iat[i,5] = edge.iat[i,2]*60/s9\n",
    "        edge.iat[i,2] = edge.iat[i,5]\n",
    "    elif edge.iat[i,3]==10:\n",
    "        edge.iat[i,5] = edge.iat[i,2]*60/s10\n",
    "        edge.iat[i,2] = edge.iat[i,5]\n",
    "    elif edge.iat[i,3]==11:\n",
    "        edge.iat[i,5] = edge.iat[i,2]*60/s11\n",
    "        edge.iat[i,2] = edge.iat[i,5]\n",
    "    elif edge.iat[i,3]==12:\n",
    "        edge.iat[i,5] = edge.iat[i,2]*60/s12\n",
    "        edge.iat[i,2] = edge.iat[i,5]\n",
    "    elif edge.iat[i,3]==13:\n",
    "        edge.iat[i,5] = edge.iat[i,2]*60/s13\n",
    "        edge.iat[i,2] = edge.iat[i,5]\n",
    "    elif edge.iat[i,3]==14:\n",
    "        edge.iat[i,5] = edge.iat[i,2]*60/s14\n",
    "        edge.iat[i,2] = edge.iat[i,5]"
   ]
  },
  {
   "cell_type": "code",
   "execution_count": null,
   "metadata": {},
   "outputs": [],
   "source": [
    "#%%初期値の設定\n",
    "         \n",
    "col=105\n",
    "nodecount=66\n",
    "incre = 1\n",
    "od =od/incre\n",
    "#Output = np.zeros(((max(edge.iloc[:,2])+1)*(max(edge.iloc[:,2])+1)-(max(edge.iloc[:,2])+1),col))\n",
    "#Output = np.full((nodecount*nodecount-nodecount,col),-1)\n",
    "Output1 = np.empty((nodecount*nodecount-nodecount,col))\n",
    "Output2 = np.zeros((nodecount,nodecount))\n",
    "bunkatu1 = np.zeros((col+3,nodecount*nodecount-nodecount))\n",
    "bunkatu2 = np.zeros((linkcount+3,nodecount*nodecount-nodecount+(3+incre)))\n",
    "for o in range(linkcount):\n",
    "    bunkatu2[o+3,0] = edge.iat[o,0]*1000+edge.iat[o,1]"
   ]
  },
  {
   "cell_type": "code",
   "execution_count": null,
   "metadata": {},
   "outputs": [],
   "source": [
    "#%% 分割配分の実行 \n",
    "bunkatu_num = 10 #　追記\n",
    "\n",
    "\n",
    "for xx in range(bunkatu_num):     \n",
    "    for r in range(1,incre+1):  \n",
    "        for i in range(nodecount*nodecount-nodecount):\n",
    "            for j in range(col):\n",
    "                Output1[i,j] = -1\n",
    "        s=0\n",
    "        g = graph_from_table(node, edge)[0]"
   ]
  },
  {
   "cell_type": "code",
   "execution_count": null,
   "metadata": {},
   "outputs": [
    {
     "data": {
      "text/plain": [
       "array([[-1., -1., -1., ..., -1., -1., -1.],\n",
       "       [-1., -1., -1., ..., -1., -1., -1.],\n",
       "       [-1., -1., -1., ..., -1., -1., -1.],\n",
       "       ...,\n",
       "       [-1., -1., -1., ..., -1., -1., -1.],\n",
       "       [-1., -1., -1., ..., -1., -1., -1.],\n",
       "       [-1., -1., -1., ..., -1., -1., -1.]])"
      ]
     },
     "execution_count": 4,
     "metadata": {},
     "output_type": "execute_result"
    }
   ],
   "source": [
    "Output1"
   ]
  },
  {
   "cell_type": "code",
   "execution_count": null,
   "metadata": {},
   "outputs": [
    {
     "data": {
      "text/plain": [
       "<networkx.classes.graph.Graph at 0x7fda990ef730>"
      ]
     },
     "execution_count": 5,
     "metadata": {},
     "output_type": "execute_result"
    }
   ],
   "source": [
    "g"
   ]
  },
  {
   "cell_type": "code",
   "execution_count": null,
   "metadata": {},
   "outputs": [],
   "source": [
    "        for i in (range(nodecount+1)): #セントロイド数＋1回繰り返す\n",
    "            for j in (range(nodecount+1)): #セントロイド数＋1回繰り返す\n",
    "                if i != j: #内々トリップの時は除外\n",
    "                    if i != 0: #ノード0は無視する\n",
    "                        if j != 0: #ノード0は無視する\n",
    "\n",
    "                            #(所要時間の記録)\n",
    "                            A = DijkstraPath(edge , i, j) #ネットワークedgeにおいて、i,j間の最短経路のリストを返す"
   ]
  },
  {
   "cell_type": "code",
   "execution_count": null,
   "metadata": {},
   "outputs": [
    {
     "data": {
      "text/html": [
       "<div>\n",
       "<style scoped>\n",
       "    .dataframe tbody tr th:only-of-type {\n",
       "        vertical-align: middle;\n",
       "    }\n",
       "\n",
       "    .dataframe tbody tr th {\n",
       "        vertical-align: top;\n",
       "    }\n",
       "\n",
       "    .dataframe thead th {\n",
       "        text-align: right;\n",
       "    }\n",
       "</style>\n",
       "<table border=\"1\" class=\"dataframe\">\n",
       "  <thead>\n",
       "    <tr style=\"text-align: right;\">\n",
       "      <th></th>\n",
       "      <th>node1</th>\n",
       "      <th>node2</th>\n",
       "      <th>weight</th>\n",
       "      <th>rank</th>\n",
       "      <th>capacity</th>\n",
       "      <th>weight2</th>\n",
       "    </tr>\n",
       "  </thead>\n",
       "  <tbody>\n",
       "    <tr>\n",
       "      <th>334</th>\n",
       "      <td>66</td>\n",
       "      <td>321</td>\n",
       "      <td>1.727841</td>\n",
       "      <td>2</td>\n",
       "      <td>12000</td>\n",
       "      <td>1.727841</td>\n",
       "    </tr>\n",
       "    <tr>\n",
       "      <th>335</th>\n",
       "      <td>321</td>\n",
       "      <td>322</td>\n",
       "      <td>2.515589</td>\n",
       "      <td>3</td>\n",
       "      <td>16000</td>\n",
       "      <td>2.515589</td>\n",
       "    </tr>\n",
       "    <tr>\n",
       "      <th>338</th>\n",
       "      <td>322</td>\n",
       "      <td>323</td>\n",
       "      <td>2.538790</td>\n",
       "      <td>3</td>\n",
       "      <td>16000</td>\n",
       "      <td>2.538790</td>\n",
       "    </tr>\n",
       "    <tr>\n",
       "      <th>339</th>\n",
       "      <td>65</td>\n",
       "      <td>323</td>\n",
       "      <td>1.307548</td>\n",
       "      <td>1</td>\n",
       "      <td>8000</td>\n",
       "      <td>1.307548</td>\n",
       "    </tr>\n",
       "  </tbody>\n",
       "</table>\n",
       "</div>"
      ],
      "text/plain": [
       "     node1  node2    weight  rank  capacity   weight2\n",
       "334     66    321  1.727841     2     12000  1.727841\n",
       "335    321    322  2.515589     3     16000  2.515589\n",
       "338    322    323  2.538790     3     16000  2.538790\n",
       "339     65    323  1.307548     1      8000  1.307548"
      ]
     },
     "execution_count": 7,
     "metadata": {},
     "output_type": "execute_result"
    }
   ],
   "source": [
    "A"
   ]
  },
  {
   "cell_type": "code",
   "execution_count": null,
   "metadata": {},
   "outputs": [
    {
     "ename": "NameError",
     "evalue": "name 'incre' is not defined",
     "output_type": "error",
     "traceback": [
      "\u001b[0;31m---------------------------------------------------------------------------\u001b[0m",
      "\u001b[0;31mNameError\u001b[0m                                 Traceback (most recent call last)",
      "\u001b[1;32m/Users/hoteison/Desktop/Untitled-1.ipynb Cell 8'\u001b[0m in \u001b[0;36m<cell line: 3>\u001b[0;34m()\u001b[0m\n\u001b[1;32m      <a href='vscode-notebook-cell:/Users/hoteison/Desktop/Untitled-1.ipynb#ch0000007?line=0'>1</a>\u001b[0m bunkatu_num \u001b[39m=\u001b[39m \u001b[39m10\u001b[39m \u001b[39m#　追記\u001b[39;00m\n\u001b[1;32m      <a href='vscode-notebook-cell:/Users/hoteison/Desktop/Untitled-1.ipynb#ch0000007?line=2'>3</a>\u001b[0m \u001b[39mfor\u001b[39;00m xx \u001b[39min\u001b[39;00m \u001b[39mrange\u001b[39m(bunkatu_num):     \n\u001b[0;32m----> <a href='vscode-notebook-cell:/Users/hoteison/Desktop/Untitled-1.ipynb#ch0000007?line=3'>4</a>\u001b[0m     \u001b[39mfor\u001b[39;00m r \u001b[39min\u001b[39;00m \u001b[39mrange\u001b[39m(\u001b[39m1\u001b[39m,incre\u001b[39m+\u001b[39m\u001b[39m1\u001b[39m):  \n\u001b[1;32m      <a href='vscode-notebook-cell:/Users/hoteison/Desktop/Untitled-1.ipynb#ch0000007?line=4'>5</a>\u001b[0m         \u001b[39mfor\u001b[39;00m i \u001b[39min\u001b[39;00m \u001b[39mrange\u001b[39m(nodecount\u001b[39m*\u001b[39mnodecount\u001b[39m-\u001b[39mnodecount):\n\u001b[1;32m      <a href='vscode-notebook-cell:/Users/hoteison/Desktop/Untitled-1.ipynb#ch0000007?line=5'>6</a>\u001b[0m             \u001b[39mfor\u001b[39;00m j \u001b[39min\u001b[39;00m \u001b[39mrange\u001b[39m(col):\n",
      "\u001b[0;31mNameError\u001b[0m: name 'incre' is not defined"
     ]
    }
   ],
   "source": [
    "bunkatu_num = 10 #　追記\n",
    "\n",
    "for xx in range(bunkatu_num):     \n",
    "    for r in range(1,incre+1):  \n",
    "        for i in range(nodecount*nodecount-nodecount):\n",
    "            for j in range(col):\n",
    "                Output1[i,j] = -1\n",
    "        s=0\n",
    "        g = graph_from_table(node, edge)[0]\n",
    "\n",
    "        #記録\n",
    "        for i in (range(nodecount+1)): #セントロイド数＋1回繰り返す\n",
    "            for j in (range(nodecount+1)): #セントロイド数＋1回繰り返す\n",
    "                if i != j: #内々トリップの時は除外\n",
    "                    if i != 0: #ノード0は無視する\n",
    "                        if j != 0: #ノード0は無視する\n",
    "\n",
    "                            #(所要時間の記録)\n",
    "                            A = DijkstraPath(edge , i, j) #ネットワークedgeにおいて、i,j間の最短経路のリストを返す\n",
    "                            #print(A)\n",
    "                            #print(int(sum(A['weight'])))\n",
    "                            \n",
    "                            Output1[s,0]=int(i) #Output1の0列目にスタートのセントロイド番号\n",
    "                            Output1[s,1]=int(j) #Output1の1列目にゴールのセントロイド番号\n",
    "                            Output1[s,2]=(sum(A['weight'])) #Output1の1列目にダイクストラのWeight列を代入\n",
    "                            \n",
    "                            #bunkatu1にnode1,node2,weightを代入\n",
    "                            bunkatu1[0,s]= Output1[s,0] #上のやつを入れるnode1\n",
    "                            bunkatu1[1,s]= Output1[s,1] #上のやつを入れるnode2\n",
    "                            bunkatu1[2,s]= Output1[s,2] #上のやつを入れるweight\n",
    "                            \n",
    "                            #bunkatu2にnode1,node2,OD交通量/分割数を代入\n",
    "                            bunkatu2[0,s+1]= Output1[s,0] #行に入れるnode1\n",
    "                            bunkatu2[1,s+1]= Output1[s,1] #行に入れるnode2\n",
    "                            bunkatu2[2,s+1]= od.iat[int(Output1[s,0]-1),int(Output1[s,1]-1)] #OD交通量/分割数\n",
    "                            \n",
    "                            \n",
    "                            #(最短経路の記録)\n",
    "                            FF=(nx.dijkstra_path(g, i, j))\n",
    "                            FF\n",
    "                            \n",
    "                            #print(nx.dijkstra_path(g, i, j))\n",
    "                            for n in range(len(FF)):\n",
    "                                Output1[s,n+3] = int(FF[n])\n",
    "                                \n",
    "                            #リンクの表現を変更(node1*1000+node2)しセントロイド間の経路を表示（bunkatu1)     \n",
    "                            for m in range(len(FF)-1):\n",
    "                                if Output1[s,m+3]<Output1[s,m+4]:\n",
    "                                    bunkatu1[m+3,s] = Output1[s,m+3]*1000+Output1[s,m+4]\n",
    "                                else:\n",
    "                                    bunkatu1[m+3,s] = Output1[s,m+4]*1000+Output1[s,m+3]\n",
    "                                        \n",
    "                            #リンクごとの交通量を代入\n",
    "                            for m in range(len(FF)-1):\n",
    "                                a = np.where(bunkatu2[:,0] == bunkatu1[m+3,s])\n",
    "                                bunkatu2[a,s+1] = bunkatu2[2,s+1]\n",
    "                                print(\"a=\\n\",a)\n",
    "                            \n",
    "                            #記録位置の変更\n",
    "                            s = s+1\n",
    "\n"
   ]
  },
  {
   "cell_type": "code",
   "execution_count": null,
   "metadata": {},
   "outputs": [
    {
     "data": {
      "text/plain": [
       "array([[0.00000000e+00, 1.00000000e+00, 1.00000000e+00, ...,\n",
       "        0.00000000e+00, 0.00000000e+00, 0.00000000e+00],\n",
       "       [0.00000000e+00, 2.00000000e+00, 3.00000000e+00, ...,\n",
       "        0.00000000e+00, 0.00000000e+00, 0.00000000e+00],\n",
       "       [0.00000000e+00, 4.08333861e+01, 3.21856675e+02, ...,\n",
       "        0.00000000e+00, 0.00000000e+00, 0.00000000e+00],\n",
       "       ...,\n",
       "       [2.58416000e+05, 0.00000000e+00, 0.00000000e+00, ...,\n",
       "        0.00000000e+00, 0.00000000e+00, 0.00000000e+00],\n",
       "       [3.17700000e+03, 0.00000000e+00, 0.00000000e+00, ...,\n",
       "        0.00000000e+00, 0.00000000e+00, 0.00000000e+00],\n",
       "       [1.75271000e+05, 0.00000000e+00, 0.00000000e+00, ...,\n",
       "        0.00000000e+00, 0.00000000e+00, 0.00000000e+00]])"
      ]
     },
     "execution_count": 9,
     "metadata": {},
     "output_type": "execute_result"
    }
   ],
   "source": [
    "bunkatu2"
   ]
  },
  {
   "cell_type": "code",
   "execution_count": null,
   "metadata": {},
   "outputs": [
    {
     "data": {
      "text/plain": [
       "[66, 321, 322, 323, 65]"
      ]
     },
     "execution_count": 10,
     "metadata": {},
     "output_type": "execute_result"
    }
   ],
   "source": [
    "FF"
   ]
  },
  {
   "cell_type": "code",
   "execution_count": 5,
   "metadata": {},
   "outputs": [
    {
     "ename": "NameError",
     "evalue": "name 'a' is not defined",
     "output_type": "error",
     "traceback": [
      "\u001b[0;31m---------------------------------------------------------------------------\u001b[0m",
      "\u001b[0;31mNameError\u001b[0m                                 Traceback (most recent call last)",
      "\u001b[1;32m/Users/hoteison/Desktop/Untitled-1.ipynb Cell 11'\u001b[0m in \u001b[0;36m<cell line: 1>\u001b[0;34m()\u001b[0m\n\u001b[0;32m----> <a href='vscode-notebook-cell:/Users/hoteison/Desktop/Untitled-1.ipynb#ch0000010?line=0'>1</a>\u001b[0m \u001b[39mprint\u001b[39m(a)\n",
      "\u001b[0;31mNameError\u001b[0m: name 'a' is not defined"
     ]
    }
   ],
   "source": [
    "print(a)"
   ]
  },
  {
   "cell_type": "code",
   "execution_count": 6,
   "metadata": {},
   "outputs": [
    {
     "name": "stdout",
     "output_type": "stream",
     "text": [
      "1\n"
     ]
    }
   ],
   "source": [
    "for i in range(1,2):\n",
    "    print(i)"
   ]
  },
  {
   "cell_type": "code",
   "execution_count": null,
   "metadata": {},
   "outputs": [],
   "source": []
  }
 ],
 "metadata": {
  "interpreter": {
   "hash": "4e7e9f53a7e16853fec103b312bead0c8fac62e8daa5be37d711e7d09c796e8b"
  },
  "kernelspec": {
   "display_name": "Python 3.9.12 ('py39')",
   "language": "python",
   "name": "python3"
  },
  "language_info": {
   "codemirror_mode": {
    "name": "ipython",
    "version": 3
   },
   "file_extension": ".py",
   "mimetype": "text/x-python",
   "name": "python",
   "nbconvert_exporter": "python",
   "pygments_lexer": "ipython3",
   "version": "3.9.12"
  },
  "orig_nbformat": 4
 },
 "nbformat": 4,
 "nbformat_minor": 2
}
